{
  "cells": [
    {
      "cell_type": "markdown",
      "metadata": {
        "id": "view-in-github",
        "colab_type": "text"
      },
      "source": [
        "<a href=\"https://colab.research.google.com/github/EkeminiImeOtu/Projects/blob/main/Installer_of_PostJob_11.ipynb\" target=\"_parent\"><img src=\"https://colab.research.google.com/assets/colab-badge.svg\" alt=\"Open In Colab\"/></a>"
      ]
    },
    {
      "cell_type": "code",
      "execution_count": 1,
      "id": "32b3b224",
      "metadata": {
        "id": "32b3b224"
      },
      "outputs": [],
      "source": [
        "import requests\n",
        "\n",
        "cookies = {\n",
        "    'PrestaShop-8bfa3a6fd383a77cb0ebd841a4d7cb4a': 'IBpTvwWpgLltNmXqy95%2BJEPnAOSsMpI6rT5VOI5doCfnwpUg60QaHqANfdU7fxt4r%2Btg4eINwLSyAdAHnsy03q9ZOor%2FSWNUmMrDG3n4BhM%3D000074',\n",
        "    'PHPSESSID': '47c7415d4f1313873eb1132dae9455df',\n",
        "    '_fbp': 'fb.1.1675671240217.755893231',\n",
        "    '_gid': 'GA1.2.59953062.1675671241',\n",
        "    '_scid': '9d37409a-d530-488e-866e-320248e4b5f9',\n",
        "    '_gcl_au': '1.1.727547635.1675671241',\n",
        "    '__adroll_fpc': 'ed92292a8a2a95e01a2b32113a4c69bd-1675671241963',\n",
        "    '_pin_unauth': 'dWlkPU5UTTVNems1TlRRdE5EZ3hOeTAwTjJWaExXRmtPVGt0WkRWbVlqVTNNalkyWlRCag',\n",
        "    'LPVID': 'Q3NjJlYjI5MTM3MWNkNDFl',\n",
        "    '_sctr': '1|1675638000000',\n",
        "    'LPSID-69736474': 'FQKJbgYISCG4thbyH309BQ',\n",
        "    '__ar_v4': 'BF24JLMYPVESXMY64MPONY%3A20230208%3A9%7CWGDI2PQLCVHQJNKWC3XPQX%3A20230208%3A9%7CBV7LHDACN5CIZC432XRMA2%3A20230208%3A9%7CAT6BQYTJ4ZGDDB43DZTJ73%3A20230208%3A10%7CQ5W3YDDRYJC2VBKGCQO4Q4%3A20230208%3A10%7C5QATGQS7QJHZZLDZ27H55T%3A20230208%3A10',\n",
        "    '_gat': '1',\n",
        "    '_gat_UA-3103672-15': '1',\n",
        "    '_ga_EGBB2HWKZR': 'GS1.1.1675764319.7.1.1675764323.0.0.0',\n",
        "    '_ga': 'GA1.1.563695479.1675671241',\n",
        "    '_derived_epik': 'dj0yJnU9bzdOTmxzeE03bUNUbHg2ci1aUWQ5WmhHcDVrWkliR2kmbj1OeEZVUmFOU0xsVVV1bmRlQ3ZCVXBRJm09MSZ0PUFBQUFBR1BpSW1NJnJtPTEmcnQ9QUFBQUFHUGlJbU0mc3A9Mg',\n",
        "}\n",
        "\n",
        "headers = {\n",
        "    'Accept': '*/*',\n",
        "    'Accept-Language': 'en-GB,en-US;q=0.9,en;q=0.8',\n",
        "    'Connection': 'keep-alive',\n",
        "    'Content-Type': 'application/x-www-form-urlencoded; charset=UTF-8',\n",
        "    # 'Cookie': 'PrestaShop-8bfa3a6fd383a77cb0ebd841a4d7cb4a=IBpTvwWpgLltNmXqy95%2BJEPnAOSsMpI6rT5VOI5doCfnwpUg60QaHqANfdU7fxt4r%2Btg4eINwLSyAdAHnsy03q9ZOor%2FSWNUmMrDG3n4BhM%3D000074; PHPSESSID=47c7415d4f1313873eb1132dae9455df; _fbp=fb.1.1675671240217.755893231; _gid=GA1.2.59953062.1675671241; _scid=9d37409a-d530-488e-866e-320248e4b5f9; _gcl_au=1.1.727547635.1675671241; __adroll_fpc=ed92292a8a2a95e01a2b32113a4c69bd-1675671241963; _pin_unauth=dWlkPU5UTTVNems1TlRRdE5EZ3hOeTAwTjJWaExXRmtPVGt0WkRWbVlqVTNNalkyWlRCag; LPVID=Q3NjJlYjI5MTM3MWNkNDFl; _sctr=1|1675638000000; LPSID-69736474=FQKJbgYISCG4thbyH309BQ; __ar_v4=BF24JLMYPVESXMY64MPONY%3A20230208%3A9%7CWGDI2PQLCVHQJNKWC3XPQX%3A20230208%3A9%7CBV7LHDACN5CIZC432XRMA2%3A20230208%3A9%7CAT6BQYTJ4ZGDDB43DZTJ73%3A20230208%3A10%7CQ5W3YDDRYJC2VBKGCQO4Q4%3A20230208%3A10%7C5QATGQS7QJHZZLDZ27H55T%3A20230208%3A10; _gat=1; _gat_UA-3103672-15=1; _ga_EGBB2HWKZR=GS1.1.1675764319.7.1.1675764323.0.0.0; _ga=GA1.1.563695479.1675671241; _derived_epik=dj0yJnU9bzdOTmxzeE03bUNUbHg2ci1aUWQ5WmhHcDVrWkliR2kmbj1OeEZVUmFOU0xsVVV1bmRlQ3ZCVXBRJm09MSZ0PUFBQUFBR1BpSW1NJnJtPTEmcnQ9QUFBQUFHUGlJbU0mc3A9Mg',\n",
        "    'Origin': 'https://dreamline.com',\n",
        "    'Referer': 'https://dreamline.com/Storelocator/index.php?isInstaller=true',\n",
        "    'Sec-Fetch-Dest': 'empty',\n",
        "    'Sec-Fetch-Mode': 'cors',\n",
        "    'Sec-Fetch-Site': 'same-origin',\n",
        "    'User-Agent': 'Mozilla/5.0 (Windows NT 10.0; Win64; x64) AppleWebKit/537.36 (KHTML, like Gecko) Chrome/109.0.0.0 Safari/537.36',\n",
        "    'X-Requested-With': 'XMLHttpRequest',\n",
        "    'sec-ch-ua': '\"Not_A Brand\";v=\"99\", \"Google Chrome\";v=\"109\", \"Chromium\";v=\"109\"',\n",
        "    'sec-ch-ua-mobile': '?0',\n",
        "    'sec-ch-ua-platform': '\"Windows\"',\n",
        "}\n",
        "\n",
        "\n",
        "\n"
      ]
    },
    {
      "cell_type": "code",
      "execution_count": 2,
      "id": "9712e113",
      "metadata": {
        "scrolled": false,
        "id": "9712e113"
      },
      "outputs": [],
      "source": [
        "import pandas as pd\n",
        "import json\n",
        "Final_Result = pd.DataFrame()\n",
        "df = pd.read_excel('/content/ppepp2.xlsx')\n",
        "for i, row in df.iterrows():\n",
        "    lat = row.lat\n",
        "    lng = row.lng\n",
        "    \n",
        "    data = {\n",
        "    'ajax': '1',\n",
        "    'sku': '',\n",
        "    'isInstaller': 'false',\n",
        "    'action': 'get_nearby_stores',\n",
        "    'address': \" \",\n",
        "    'formattedAddress': \" \",\n",
        "    'distance': '100',\n",
        "    'lat': lat,\n",
        "    'lng': lng,\n",
        "    'products': '',\n",
        "    'catlist': 'multiselect-all,1,2,3',\n",
        "    'certified': '1',\n",
        "    'dealer': '',\n",
        "}\n",
        "    response = requests.post('https://dreamline.com/Storelocator/index.php', cookies=cookies, headers=headers, data=data)\n",
        "    \n",
        "    dtt = response.content\n",
        "    dt = dtt.decode('utf-8-sig')\n",
        "    my_data = json.loads(dt)\n",
        "    Final_Result = Final_Result.append(my_data['stores'])\n",
        "    "
      ]
    },
    {
      "cell_type": "code",
      "execution_count": 3,
      "id": "d1e20faf",
      "metadata": {
        "id": "d1e20faf"
      },
      "outputs": [],
      "source": [
        "Final_Result.to_excel(\"Installer.xlsx\")"
      ]
    },
    {
      "cell_type": "code",
      "execution_count": 3,
      "id": "0ce16543",
      "metadata": {
        "id": "0ce16543"
      },
      "outputs": [],
      "source": []
    }
  ],
  "metadata": {
    "kernelspec": {
      "display_name": "Python 3 (ipykernel)",
      "language": "python",
      "name": "python3"
    },
    "language_info": {
      "codemirror_mode": {
        "name": "ipython",
        "version": 3
      },
      "file_extension": ".py",
      "mimetype": "text/x-python",
      "name": "python",
      "nbconvert_exporter": "python",
      "pygments_lexer": "ipython3",
      "version": "3.9.7"
    },
    "colab": {
      "provenance": [],
      "include_colab_link": true
    }
  },
  "nbformat": 4,
  "nbformat_minor": 5
}